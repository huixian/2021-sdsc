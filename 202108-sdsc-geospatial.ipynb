{
 "cells": [
  {
   "cell_type": "markdown",
   "id": "aa1a8685",
   "metadata": {},
   "source": [
    "<img align=\"right\" src=\"https://docs.google.com/uc?id=1tSEwB0qGJQatNAnntC3jVpuRQ1qV5TU8\" width=\"200\">\n",
    "\n",
    "# Introduction to Geospatial Visualization \n",
    "\n",
    "Course Instructor: Hwee-Xian TAN (hweexian.tan@mercurics.com)\n",
    "\n",
    "17 Aug 2021\n",
    "\n",
    "0930 hrs - 1230 hrs"
   ]
  },
  {
   "cell_type": "markdown",
   "id": "56e89d61",
   "metadata": {},
   "source": [
    "***\n",
    "\n",
    "### Course Overview\n",
    "\n",
    "Geospatial visualisation allows people to view patterns and trends across\n",
    "geographic spaces of different scales - be it at neighbourhood, town or city level.\n",
    "This can then enable various applications - such as [identifying hotspots of disease\n",
    "outbreaks](https://blogs.worldbank.org/eastasiapacific/role-geospatial-information-confronting-covid-19-learning-korea), understanding [travel patterns of commuters](https://www.geospatialworld.net/blogs/ubers-new-mobility-heatmaps-give-insights-into-micromobility-trends-in-cities/), as well as tracking\n",
    "changes in the [housing prices in different neighbourhoods over time](https://www.channelnewsasia.com/singapore/hdb-resale-prices-rise-q2-2021-property-market-2039586).\n",
    "\n",
    "<img align=\"center\" src=\"https://docs.google.com/uc?id=1N7hpTKBCr8eH31Tcqv9jd18imr9AC_hc\" width=\"600\">\n",
    "\n",
    "In this 3-hour course, you will learn about the basics of geospatial data, as well as\n",
    "how to use Python for geospatial visualisations. Specifically, we will be using the\n",
    "Python-based Folium library to create interactive geospatial maps."
   ]
  },
  {
   "cell_type": "markdown",
   "id": "dd9437fa",
   "metadata": {},
   "source": [
    "***\n",
    "\n",
    "### Learning Objectives\n",
    "\n",
    "1. [Basics](#sec_basics) <br> \n",
    "    1.1 [What is Folium, and what can it be used for?](#subsec_folium) <br>\n",
    "    1.2 [Plotting markers, circles and circle markers](#subsec_markers) <br> \n",
    "    1.3 [Adding images](#subsec_images) <br>\n",
    "    1.4 [Adding convenient tools](#subsec_tools) <br> \n",
    "<br>\n",
    "2. [S$1 Million Dollar Resale Flats in SG](#sec_resale) <br> \n",
    "    2.1 [Getting coordinates of flats from onemap API](#subsec_flatcoords) <br>\n",
    "    2.2 [Plotting flat locations using ClusterMap](#subsec_flatloc) <br>\n",
    "    2.3 [Plotting boundaries](#subsec_boundaries) <br>\n",
    "    2.4 [Plotting choropleths](#subsec_choropleths) <br>\n",
    "<br>\n",
    "3. [Timestamped Path](#sec_path) <br>"
   ]
  },
  {
   "cell_type": "markdown",
   "id": "184875e3",
   "metadata": {},
   "source": [
    "***\n",
    "\n",
    "### Other Exercises to Try\n",
    "\n",
    "1. MRT/LRT Stations in SG\n",
    "   - Get the [list of MRT stations in SG](https://data.gov.sg/dataset/train-station-chinese-names) \n",
    "   - Geocode station locations using the [One Map Search API](https://www.onemap.gov.sg/docs/#onemap-rest-apis)\n",
    "   - Plot MRT/LRT stations using different [FeatureGroup](https://python-visualization.github.io/folium/modules.html#folium.map.FeatureGroup)\n",
    "   \n",
    "   \n",
    "2. Population Statistics\n",
    "   - Register for a [One Map account](https://www.onemap.gov.sg/docs/#register-free-account) (free)\n",
    "   - Try out different [population queries](https://www.onemap.gov.sg/docs/#population-query); most of them include the `planning_area`. \n",
    "   \n",
    "   \n",
    "3. Electoral Boundaries\n",
    "   - Download electoral boundaries for different years from [data.gov.sg](https://data.gov.sg)\n",
    "   - Use a [TimeSliderChoropleth](https://python-visualization.github.io/folium/plugins.html#folium.plugins.TimeSliderChoropleth) or [TimeStampedGeoJson](https://python-visualization.github.io/folium/plugins.html#folium.plugins.TimestampedGeoJson) to visualize the changes "
   ]
  },
  {
   "cell_type": "markdown",
   "id": "5f398f40",
   "metadata": {},
   "source": [
    "***\n",
    "\n",
    "<a id='sec_basics'></a>\n",
    "\n",
    "### 1. Basics\n",
    "\n",
    "According to [IBM](https://www.ibm.com/topics/geospatial-data), \"_geospatial data is time-based data that is related to a specific location on the Earth’s surface_\". \n",
    "\n",
    "<img align=\"right\" src=\"https://docs.google.com/uc?id=1R2Vzeym88QO28XixwQ6T4p_1xFzXkgG1\" width=\"300\">\n",
    "\n",
    "Geospatial data typically combines location information (usually coordinates on the earth) and attribute information (the characteristics of the object, event or phenomena concerned) with temporal information (the time or life span at which the location and attributes exist). \n",
    "\n",
    "Can you identify what are the **location**, **attribute** and **temporal information** for the [newsclip](https://www.channelnewsasia.com/singapore/covid-19-cases-aug-15-local-unlinked-imported-cluster-2113881) on the left?\n",
    "\n",
    "***\n",
    "\n",
    "When we talk about _location_, most of us will naturally associate it with the terms _GPS coordinates_, _latitude_ and/or _longitude_. However, the [geographic coordinate system](https://en.wikipedia.org/wiki/Geographic_coordinate_system) that many of us are familiar with, is actually not the _only_ way to represent _location_. Some other ways of representing location (at different granularities) are:\n",
    "- street addresses\n",
    "- zipcodes\n",
    "- [Plus codes](https://maps.google.com/pluscodes/)\n",
    "- [what3words](https://what3words.com/), which provides a unique 3-word address to every 3m square in the world; see related article [here](https://www.straitstimes.com/singapore/teenagers-got-lost-in-macritchie-forest-trying-to-find-a-shrine) and another discussion [here](https://shkspr.mobi/blog/2019/03/why-bother-with-what-three-words/).\n",
    "\n",
    "Currently, the GPS (Global Positioning System), and most parts of the world, use [WGS-84](https://en.wikipedia.org/wiki/World_Geodetic_System) as the reference coordinate system."
   ]
  },
  {
   "cell_type": "markdown",
   "id": "a6b8688f",
   "metadata": {},
   "source": [
    "***\n",
    "\n",
    "<a id='subsec_folium'></a>\n",
    "\n",
    "#### 1.1 What is Folium, and what can it be used for?\n",
    "\n",
    "<img align=\"left\" src=\"https://docs.google.com/uc?id=1GIstJUgaHEEukMVNNiShLqGyKV_THDIv\" width=\"50\">\n",
    "\n",
    "[Folium](http://python-visualization.github.io/folium/) is a Python library used for visualizing geospatial data. It is a Python wrapper for [Leaflet.js](https://leafletjs.com/), which is a leading open-source JavaScript library for plotting interactive maps."
   ]
  },
  {
   "cell_type": "markdown",
   "id": "7f871200",
   "metadata": {},
   "source": [
    "***\n",
    "\n",
    "<a id='subsec_markers'></a>\n",
    "\n",
    "#### 1.2 Plotting markers, circles and circle markers\n",
    "\n",
    "Our first exercise is to plot some of your favorite places on the Singapore map."
   ]
  },
  {
   "cell_type": "code",
   "execution_count": null,
   "id": "88a3c9f3",
   "metadata": {},
   "outputs": [],
   "source": [
    "# import the necessary libraries\n",
    "import folium \n",
    "from folium import plugins"
   ]
  },
  {
   "cell_type": "markdown",
   "id": "e9408256",
   "metadata": {},
   "source": [
    "We will now decide on the places that we want to plot. Feel free to amend the following (you can find the geolocations by right-hand-clicking on the location in [Google Maps](https://www.google.com/maps))!.\n",
    "\n",
    "<img align=\"center\" src=\"https://docs.google.com/uc?id=1xtWLT7tLfmkPGODMureywTU5fuazDkAV\" width=\"300\">"
   ]
  },
  {
   "cell_type": "code",
   "execution_count": null,
   "id": "777cdcc0",
   "metadata": {},
   "outputs": [],
   "source": [
    "# ignore the \"icon\" for now\n",
    "# feel free to replace the locations with other locations\n",
    "\n",
    "PLACES_INFO = {\n",
    "    \"River Safari\": {\n",
    "        \"coords\": [1.4034748485157804, 103.79069464816145],\n",
    "        \"icon\": \"paw\"\n",
    "    },\n",
    "    \"Raffles City\": {\n",
    "        \"coords\": [1.2940660674394049, 103.85315364401437],\n",
    "        \"icon\": \"shopping-bag\"\n",
    "    },\n",
    "    \"Rice Dumplings\": {\n",
    "        \"coords\": [1.3134947398924421, 103.9018002231405],\n",
    "        \"icon\": \"cutlery\"\n",
    "    },\n",
    "    \"Hokkien Mee\": {\n",
    "        \"coords\": [1.313967818657403, 103.88551523745562],\n",
    "        \"icon\": \"cutlery\"\n",
    "    },\n",
    "}"
   ]
  },
  {
   "cell_type": "code",
   "execution_count": null,
   "id": "c99645da",
   "metadata": {},
   "outputs": [],
   "source": [
    "# Folium allows us to specify the center of the map that we want to focus on\n",
    "# Let's focus the map center in SG since we are in SG\n",
    "SG_COORDS = [1.3521, 103.8198]"
   ]
  },
  {
   "cell_type": "code",
   "execution_count": null,
   "id": "5736a8eb",
   "metadata": {},
   "outputs": [],
   "source": [
    "# function to plot markers \n",
    "\n",
    "def plot_markers(map_center, places_info, output):\n",
    "\n",
    "    m = folium.Map(location=map_center, zoom_start=12)\n",
    "\n",
    "    # add a marker for each coordinate\n",
    "    for k, v in places_info.items():\n",
    "        folium.Marker(\n",
    "            popup=k,\n",
    "            location=v[\"coords\"],            \n",
    "            icon=folium.Icon(color=\"darkpurple\")\n",
    "        ).add_to(m)\n",
    "\n",
    "    m.save(output)\n",
    "    display(m)"
   ]
  },
  {
   "cell_type": "code",
   "execution_count": null,
   "id": "4e0d057a",
   "metadata": {
    "scrolled": true
   },
   "outputs": [],
   "source": [
    "plot_markers(SG_COORDS, PLACES_INFO, \"folium_basic.html\")"
   ]
  },
  {
   "cell_type": "markdown",
   "id": "1fbd838c",
   "metadata": {},
   "source": [
    "You can personalize your markers by adding some custom icons from [FontAwesome](https://fontawesome.com/v4.7/icons/).\n",
    "\n",
    "In the `plot_markers` function, replace the line \n",
    "\n",
    "`icon=folium.Icon(color=\"darkpurple\")` \n",
    "\n",
    "with\n",
    "\n",
    "`icon=folium.Icon(color=\"darkpurple\", icon=v[\"icon\"], prefix=\"fa\")`.\n",
    "\n",
    "Then, call the `plot_markers` function again.\n",
    "\n",
    "You can refer to this [link](https://python-visualization.github.io/folium/modules.html#folium.map.Icon) for more details on how to customize your markers (e.g., color)."
   ]
  },
  {
   "cell_type": "code",
   "execution_count": null,
   "id": "35b0cd91",
   "metadata": {
    "scrolled": true
   },
   "outputs": [],
   "source": [
    "plot_markers(SG_COORDS, PLACES_INFO, \"folium_basic.html\")"
   ]
  },
  {
   "cell_type": "markdown",
   "id": "c8f038e1",
   "metadata": {},
   "source": [
    "In Singapore, it is well-known that \"_Priority is given to Singapore Citizens and Permanent Residents who live closer to the preferred school when balloting_\" [source](https://www.moe.gov.sg/primary/p1-registration/distance).\n",
    "\n",
    "Let's look at an arbitrary primary school in Singapore."
   ]
  },
  {
   "cell_type": "code",
   "execution_count": null,
   "id": "37fd4d92",
   "metadata": {},
   "outputs": [],
   "source": [
    "SCHOOL_INFO = {\n",
    "    \"Ai Tong\": {\n",
    "        \"coords\": [1.3604782119970977, 103.83266348175003],\n",
    "        \"icon\": \"book\"\n",
    "    }\n",
    "}"
   ]
  },
  {
   "cell_type": "markdown",
   "id": "e54acc20",
   "metadata": {},
   "source": [
    "A parent may be interested to find out what are the places that the family should move to (if necessary), to qualify for priority admission. \n",
    "\n",
    "Actually, this is not necessary, because \"[_every school, a good school_](https://mothership.sg/2018/07/every-school-a-good-school/)\".\n",
    "\n",
    "Nonetheless,... "
   ]
  },
  {
   "cell_type": "code",
   "execution_count": null,
   "id": "e9153eb4",
   "metadata": {},
   "outputs": [],
   "source": [
    "def plot_circles(map_center, school_info, output):\n",
    "\n",
    "    m = folium.Map(location=map_center, zoom_start=12)\n",
    "\n",
    "    # add a marker for each school\n",
    "    for k, v in school_info.items():\n",
    "        folium.Marker(\n",
    "            popup=k,\n",
    "            location=v[\"coords\"],\n",
    "            icon=folium.Icon(color=\"blue\", icon=v[\"icon\"], prefix=\"fa\")\n",
    "        ).add_to(m)\n",
    "\n",
    "    # add a circle for the school\n",
    "    for k, v in school_info.items():\n",
    "        folium.Circle(\n",
    "            popup=k,\n",
    "            location=v[\"coords\"],    \n",
    "            radius=1000, \n",
    "            color=\"blue\",\n",
    "            fill=False,\n",
    "        ).add_to(m)\n",
    "        \n",
    "        folium.Circle(\n",
    "            popup=k,\n",
    "            location=v[\"coords\"],    \n",
    "            radius=2000, \n",
    "            color=\"orange\",\n",
    "            fill=False,\n",
    "        ).add_to(m)\n",
    "        \n",
    "    m.save(output)\n",
    "    display(m)"
   ]
  },
  {
   "cell_type": "code",
   "execution_count": null,
   "id": "b0c7b9c0",
   "metadata": {
    "scrolled": true
   },
   "outputs": [],
   "source": [
    "plot_circles(SG_COORDS, SCHOOL_INFO, \"folium_basic.html\")"
   ]
  },
  {
   "cell_type": "markdown",
   "id": "3122432a",
   "metadata": {},
   "source": [
    "There is another type of circle that you can draw in Folium, called `CircleMarker`.\n",
    "\n",
    "Try adding the following code snippet into the `plot_circles` function. \n",
    "\n",
    "```\n",
    "        folium.CircleMarker(\n",
    "            popup=k,\n",
    "            location=v[\"coords\"],\n",
    "            radius=50,       \n",
    "            color=\"grey\",\n",
    "            fill=True,\n",
    "            fill_color=\"grey\",\n",
    "        ).add_to(m)\n",
    "```\n",
    "\n",
    "Run the `plot_circles` function again. Can you tell the difference between a `CircleMarker` and a `Circle`?"
   ]
  },
  {
   "cell_type": "markdown",
   "id": "acb59606",
   "metadata": {},
   "source": [
    "***\n",
    "\n",
    "<a id='subsec_images'></a>\n",
    "\n",
    "#### 1.3 Adding images\n",
    "\n",
    "Let's also add an image to our map. "
   ]
  },
  {
   "cell_type": "code",
   "execution_count": null,
   "id": "c53f58f7",
   "metadata": {},
   "outputs": [],
   "source": [
    "# specify link to any image that you like\n",
    "IMAGE_URL = \"https://nus.edu.sg/images/default-source/base/logo.png\"\n",
    "\n",
    "def add_image(map_center, image_url, output):\n",
    "    \n",
    "    m = folium.Map(location=map_center, zoom_start=12)\n",
    "\n",
    "    plugins.FloatImage(image_url, bottom=5, left=5).add_to(m)\n",
    "    \n",
    "    m.save(output)\n",
    "    display(m)"
   ]
  },
  {
   "cell_type": "code",
   "execution_count": null,
   "id": "065e8c7c",
   "metadata": {
    "scrolled": true
   },
   "outputs": [],
   "source": [
    "add_image(SG_COORDS, IMAGE_URL, \"folium_basic.html\")"
   ]
  },
  {
   "cell_type": "markdown",
   "id": "a02e1adb",
   "metadata": {},
   "source": [
    "***\n",
    "\n",
    "<a id='subsec_tools'></a>\n",
    "\n",
    "#### 1.4 Adding convenient tools\n",
    "\n",
    "Finally, let's add some convenient tools to our map. \n",
    "\n",
    "Add the following code snippets to the function `add_image`.\n",
    "\n",
    "```\n",
    "    m.add_child(plugins.MeasureControl())\n",
    "    m.add_child(folium.LatLngPopup()) \n",
    "```    "
   ]
  },
  {
   "cell_type": "markdown",
   "id": "67174da0",
   "metadata": {},
   "source": [
    "***\n",
    "\n",
    "<a id='sec_resale'></a>\n",
    "\n",
    "### 2. S\\$1 Million Dollar Resale Flats in SG\n",
    "\n",
    "<img align=\"center\" src=\"https://docs.google.com/uc?id=1eHeAlkpmLaM4Sbj6TdMm4yVEsfs502Vs\" width=\"500\">\n",
    "\n",
    "Let's try to find out where are all the expensive resale flats in SG!"
   ]
  },
  {
   "cell_type": "markdown",
   "id": "309fbe5e",
   "metadata": {},
   "source": [
    "***\n",
    "\n",
    "<a id='subsec_flatcoords'></a>\n",
    "\n",
    "#### 2.1 Getting coordinates of flats from onemap API\n",
    "\n",
    "In case you did not already know, [data.gov.sg](https://data.gov.sg/) provides a pretty up-to-date list of the resale transactions in Singapore [here](https://data.gov.sg/dataset/resale-flat-prices).\n",
    "\n",
    "From the year 2017 onwards, there have been over 100,000 resale transactions - so that is going to take us a couple of minutes to download the data via the API. Let's download the csv instead to save us some time. "
   ]
  },
  {
   "cell_type": "code",
   "execution_count": null,
   "id": "e244e7e3",
   "metadata": {},
   "outputs": [],
   "source": [
    "RESALE_FILE = \"resale-flat-prices-based-on-registration-date-from-jan-2017-onwards.csv\""
   ]
  },
  {
   "cell_type": "markdown",
   "id": "7f9e0f7d",
   "metadata": {},
   "source": [
    "Let's take a quick look at the dataset by loading the csv file into a [Pandas](https://pandas.pydata.org) dataframe. If you are new to Pandas, this [10 minutes tutorial](https://pandas.pydata.org/pandas-docs/stable/getting_started/10min.html) can help. "
   ]
  },
  {
   "cell_type": "code",
   "execution_count": null,
   "id": "95ee9f33",
   "metadata": {},
   "outputs": [],
   "source": [
    "import pandas as pd\n",
    "\n",
    "df_resale = pd.read_csv(RESALE_FILE, dtype={\"resale_price\": float})\n",
    "df_resale.head()"
   ]
  },
  {
   "cell_type": "markdown",
   "id": "9d986401",
   "metadata": {},
   "source": [
    "Let's focus only on the flats with resale prices that are greater or equal to S$1 million, in the year 2021. "
   ]
  },
  {
   "cell_type": "code",
   "execution_count": null,
   "id": "8bee2363",
   "metadata": {},
   "outputs": [],
   "source": [
    "# get only the million dollar flats this year\n",
    "df_resale[\"year\"] = df_resale[\"month\"].apply(lambda x: int(x.split(\"-\")[0]))\n",
    "df_million = df_resale[(df_resale[\"year\"]==2021) & (df_resale[\"resale_price\"]>=1000000)]\n",
    "print(\"# million dollar flats in 2021={}\".format(len(df_million)))"
   ]
  },
  {
   "cell_type": "markdown",
   "id": "46d300ed",
   "metadata": {},
   "source": [
    "***\n",
    "\n",
    "<a id='subsec_flatloc'></a>\n",
    "\n",
    "#### 2.2 Plotting flat locations using ClusterMap\n",
    "\n",
    "Notice that we have the addresses of the resale flats, but not the geospatial coordinates. Let's use the [OneMap API](https://www.onemap.gov.sg/docs/#onemap-rest-apis) to help us *[geocode](https://en.wikipedia.org/wiki/Address_geocoding)* the addresses into their corresponding coordinates."
   ]
  },
  {
   "cell_type": "code",
   "execution_count": null,
   "id": "17b93e49",
   "metadata": {},
   "outputs": [],
   "source": [
    "# function to query the OneMap API\n",
    "def get_resale_coords(url, df):\n",
    "\n",
    "    df_data = pd.DataFrame()\n",
    "    \n",
    "    for index, row in df.iterrows():\n",
    "        search_term = \"{} {}\".format(row[\"block\"], row[\"street_name\"])\n",
    "        curr_url = url.format(search_term)\n",
    "        r = requests.get(url=curr_url)\n",
    "        if r.status_code == 200 and \"results\" in r.json() and len(r.json()[\"results\"]) >= 1:\n",
    "            lat = r.json()[\"results\"][0][\"LATITUDE\"]\n",
    "            lng = r.json()[\"results\"][0][\"LONGITUDE\"]\n",
    "            row[\"lat\"] = float(lat)\n",
    "            row[\"lng\"] = float(lng)\n",
    "            df_data = df_data.append(row, ignore_index=True)\n",
    "        else:\n",
    "            print(\"cannot find\", search_term)\n",
    "        time.sleep(0.05)\n",
    "\n",
    "    return df_data"
   ]
  },
  {
   "cell_type": "code",
   "execution_count": null,
   "id": "7ecb3b49",
   "metadata": {},
   "outputs": [],
   "source": [
    "import os\n",
    "import time\n",
    "import requests\n",
    "\n",
    "ONEMAP_SEARCH_URL = \"https://developers.onemap.sg/commonapi/search?searchVal={}&returnGeom=Y&getAddrDetails=Y\"\n",
    "RESALE_LOC_FILE = \"resale_locations.csv\"\n",
    "\n",
    "if not os.path.isfile(RESALE_LOC_FILE):\n",
    "    df_resale_coords = get_resale_coords(ONEMAP_SEARCH_URL, df_million)\n",
    "    df_resale_coords.to_csv(RESALE_LOC_FILE, index=False)\n",
    "else:\n",
    "    df_resale_coords = pd.read_csv(RESALE_LOC_FILE, dtype={\"lat\": float, \"lng\": float})\n",
    "\n",
    "df_resale_coords.head()"
   ]
  },
  {
   "cell_type": "markdown",
   "id": "3ce1f4b4",
   "metadata": {},
   "source": [
    "Now that we have our geocoordinates, we can plot the locations of these expensive resale flats onto a map. Let's use a `MarkerCluster` so that the markers will cluster nicely when the map is zoomed out. "
   ]
  },
  {
   "cell_type": "code",
   "execution_count": null,
   "id": "e18f0c2d",
   "metadata": {},
   "outputs": [],
   "source": [
    "def plot_resale(map_center, df, output):\n",
    "\n",
    "    m = folium.Map(location=map_center, zoom_start=12)\n",
    "    \n",
    "    marker_cluster = plugins.MarkerCluster(name=\"2021_m$_resales\", show=True).add_to(m)\n",
    "\n",
    "    for index, row in df.iterrows():\n",
    "        folium.Marker(\n",
    "            popup = \"{} {}\".format(row[\"block\"], row[\"street_name\"]),\n",
    "            location = [row[\"lat\"], row[\"lng\"]],\n",
    "            icon=folium.Icon(color=\"orange\"),\n",
    "        ).add_to(marker_cluster) # add to marker cluster instead of add to m\n",
    "\n",
    "    m.save(output)\n",
    "    display(m)"
   ]
  },
  {
   "cell_type": "code",
   "execution_count": null,
   "id": "01fc46be",
   "metadata": {
    "scrolled": true
   },
   "outputs": [],
   "source": [
    "plot_resale(SG_COORDS, df_resale_coords, \"folium_resale.html\")"
   ]
  },
  {
   "cell_type": "markdown",
   "id": "bd8e7c3b",
   "metadata": {},
   "source": [
    "Typically, we want to display our geospatial data in *layers* on a map, which can typically be toggled on or off.\n",
    "\n",
    "To achieve this in Folium, you can use `LayerControl` by adding the following code snippet to the function `plot_resale`.\n",
    "```\n",
    "folium.LayerControl().add_to(m)\n",
    "```"
   ]
  },
  {
   "cell_type": "markdown",
   "id": "12772623",
   "metadata": {},
   "source": [
    "***\n",
    "\n",
    "<a id='subsec_boundaries'></a>\n",
    "\n",
    "#### 2.3 Plotting boundaries\n",
    "\n",
    "Nope, we're not plotting electoral boundaries today, though you can find them on [data.gov.sg](https://data.gov.sg/dataset/electoral-boundary_2020) if you're interested. As a take-home exercise, you can use the same techniques below to plot for the changing electoral boundaries through the years. ;) \n",
    "\n",
    "[image source](https://www.straitstimes.com/multimedia/graphics/2020/06/singapore-general-election-ge2020-constituency-changes/index.html?shell)\n",
    "\n",
    "<img align=\"center\" src=\"https://docs.google.com/uc?id=1rv0T00SRT_9G9Z4jUUxLF3PBaaYgJNI2\" width=\"400\">\n",
    "<img align=\"center\" src=\"https://docs.google.com/uc?id=1uLDKUpapWMAxhEuYT2Ev2viA0GK8jFvR\" width=\"400\">\n",
    "\n",
    "What we want to do today, is to overlay our expensive resale flats with the boundaries of [HDB towns](https://www.hdb.gov.sg/about-us/history/hdb-towns-your-home). However, since the HDB town boundaries are not readily/openly available, we will use URA's planning boundaries instead, which are available [here](https://data.gov.sg/dataset/master-plan-2019-subzone-boundary-no-sea).\n",
    "\n",
    "You will notice that the planning boundary files are available in 2 formats: geojson and kml. In general, there are several geospatial data formats, with the 3 most popular being:\n",
    "- geojson\n",
    "- shape files\n",
    "- kml\n",
    "\n",
    "You can find some discussions [here](https://opendata.stackexchange.com/questions/313/what-are-the-most-useful-formats-in-which-to-release-geospatial-data/4932#4932) and more information [here](https://gisgeography.com/gis-formats/).\n",
    "\n",
    "For this course, we will just be using `geojson`. [GeoJSON](https://geojson.org/) is a format for encoding a variety of geographic data structures. You can read the specifications [here](https://datatracker.ietf.org/doc/html/rfc7946)."
   ]
  },
  {
   "cell_type": "code",
   "execution_count": null,
   "id": "1635d79b",
   "metadata": {},
   "outputs": [],
   "source": [
    "import geopandas as gpd\n",
    "\n",
    "BOUNDARY_GEOJSON_FILE = \"master-plan-2019-subzone-boundary-no-sea-geojson.geojson\"\n",
    "df_boundary = gpd.read_file(BOUNDARY_GEOJSON_FILE)\n",
    "df_boundary.head()"
   ]
  },
  {
   "cell_type": "code",
   "execution_count": null,
   "id": "ea505ae9",
   "metadata": {},
   "outputs": [],
   "source": [
    "# let's look at one example of the Description\n",
    "df_boundary[\"Description\"].iloc[0]"
   ]
  },
  {
   "cell_type": "markdown",
   "id": "6c3f1656",
   "metadata": {},
   "source": [
    "We are interested in the `PLN_AREA_N`, `SUBZONE_N` and `CA_IND` (Central Area Indicator)."
   ]
  },
  {
   "cell_type": "code",
   "execution_count": null,
   "id": "42767418",
   "metadata": {},
   "outputs": [],
   "source": [
    "def extract_attributes(df):\n",
    "\n",
    "    df[\"PLN_AREA_N\"] = df[\"Description\"].apply(lambda x: re.findall('<th>PLN_AREA_N<\\/th> <td>(.*?)<\\/td>', x)[0].upper().strip())\n",
    "    df[\"SUBZONE_N\"] = df[\"Description\"].apply(lambda x: re.findall('<th>SUBZONE_N<\\/th> <td>(.*?)<\\/td>', x)[0].upper().strip())\n",
    "    df[\"CA_IND\"] = df[\"Description\"].apply(lambda x: re.findall('<th>CA_IND<\\/th> <td>(.*?)<\\/td>', x)[0].upper().strip())\n",
    "\n",
    "    df[\"TOWN\"] = df.apply(lambda x: x[\"PLN_AREA_N\"] if x[\"CA_IND\"]==\"N\" else \"CENTRAL AREA\", axis=1)\n",
    "    df[\"TOWN\"] = df[\"TOWN\"].apply(lambda x: \"KALLANG/WHAMPOA\" if x==\"KALLANG\" else x)\n",
    "\n",
    "    return df"
   ]
  },
  {
   "cell_type": "code",
   "execution_count": null,
   "id": "d97288a6",
   "metadata": {},
   "outputs": [],
   "source": [
    "import re\n",
    "\n",
    "df_boundary = extract_attributes(df_boundary)\n",
    "df_boundary.head()"
   ]
  },
  {
   "cell_type": "code",
   "execution_count": null,
   "id": "f374697e",
   "metadata": {},
   "outputs": [],
   "source": [
    "def plot_resale_with_boundary(map_center, geojson_file, df, output):\n",
    "\n",
    "    m = folium.Map(location=map_center, zoom_start=12)\n",
    "    \n",
    "    marker_cluster = plugins.MarkerCluster(name=\"2021_m$_resales\", show=True).add_to(m)\n",
    "\n",
    "    for index, row in df.iterrows():\n",
    "        folium.Marker(\n",
    "            popup = \"{} {}\".format(row[\"block\"], row[\"street_name\"]),\n",
    "            location = [row[\"lat\"], row[\"lng\"]],\n",
    "            icon=folium.Icon(color=\"orange\"),\n",
    "        ).add_to(marker_cluster) # add to marker cluster instead of add to m\n",
    "        \n",
    "    style_function = lambda x: {'fillColor': 'white', 'color': 'blue', \"weight\": 3, \"opacity\": 0.5}\n",
    "    \n",
    "    folium.GeoJson(\n",
    "        geojson_file, \n",
    "        zoom_on_click = True,\n",
    "        control = True,\n",
    "        name = \"planning_boundary\",\n",
    "        style_function = style_function,\n",
    "        tooltip=folium.features.GeoJsonTooltip(\n",
    "            fields=[\"PLN_AREA_N\", \"SUBZONE_N\"],\n",
    "            aliases=[\"Planning Area\", \"Subzone\"],\n",
    "        ),\n",
    "    ).add_to(m)\n",
    "    \n",
    "    folium.LayerControl().add_to(m)\n",
    "\n",
    "    m.save(output)\n",
    "    display(m)"
   ]
  },
  {
   "cell_type": "code",
   "execution_count": null,
   "id": "0b72450e",
   "metadata": {},
   "outputs": [],
   "source": [
    "plot_resale_with_boundary(SG_COORDS, df_boundary, df_resale_coords, \"folium_resale.html\")"
   ]
  },
  {
   "cell_type": "markdown",
   "id": "3692da12",
   "metadata": {},
   "source": [
    "***\n",
    "\n",
    "<a id='subsec_choropleths'></a>\n",
    "\n",
    "#### 2.4 Plotting choropleths\n",
    "\n",
    "[Choropleth maps](https://www.arcgis.com/apps/MapJournal/index.html?appid=75eff041036d40cf8e70df99641004ca) are popular thematic maps used to represent statistical data through various shading patterns or symbols on predetermined geographic areas (e.g., countries, planning zones). They are good at utilizing data to easily represent variability of the desired measurement, across a region.\n",
    "\n",
    "[image source](https://leyankoh.com/2018/01/12/public-transport-accessibility-index-can-they-help-discern-issues-of-social-equity/)\n",
    "\n",
    "<img align=\"center\" src=\"https://docs.google.com/uc?id=1pUSmP2IBxEo5eaGejT_LN43c4aYUqcfY\" width=\"600\">\n",
    "\n",
    "Let's plot a choropleth map that visualizes the density of expensive resale flats in each town. "
   ]
  },
  {
   "cell_type": "code",
   "execution_count": null,
   "id": "610f2c5e",
   "metadata": {},
   "outputs": [],
   "source": [
    "# count the number of expensive resale flats in each town. \n",
    "df_count = df_resale_coords.groupby([\"town\"]).size().reset_index(name='count')\n",
    "df_count"
   ]
  },
  {
   "cell_type": "code",
   "execution_count": null,
   "id": "a6f24026",
   "metadata": {},
   "outputs": [],
   "source": [
    "# sanity check\n",
    "print(df_count[\"count\"].sum() == len(df_resale_coords))"
   ]
  },
  {
   "cell_type": "code",
   "execution_count": null,
   "id": "c09282bf",
   "metadata": {},
   "outputs": [],
   "source": [
    "df_boundary_merged = df_boundary.merge(df_count, left_on=[\"TOWN\"], right_on=[\"town\"], how=\"left\")\n",
    "df_boundary_merged.fillna({\"count\": 0}, inplace=True)\n",
    "df_boundary_merged.head()"
   ]
  },
  {
   "cell_type": "code",
   "execution_count": null,
   "id": "8aec0f5a",
   "metadata": {},
   "outputs": [],
   "source": [
    "def plot_choropleth(map_center, geojson_file, df, output):\n",
    "\n",
    "    m = folium.Map(location=map_center, zoom_start=12)\n",
    "    \n",
    "    choropleth = folium.Choropleth(\n",
    "        geo_data=geojson_file,\n",
    "        name=\"choropleth\",\n",
    "        data=geojson_file,\n",
    "        columns=[\"Name\", \"count\"],\n",
    "        key_on=\"feature.properties.Name\",\n",
    "        fill_color=\"Reds\",\n",
    "        fill_opacity=0.7,\n",
    "        line_opacity=0.5,\n",
    "        legend_name=\"# resale flats above $1m in 2021\",\n",
    "        control=True\n",
    "    ).add_to(m)\n",
    "    # change fill color https://github.com/python-visualization/branca/blob/master/branca/scheme_base_codes.json\n",
    "    \n",
    "    # add labels indicating the name of the planning area\n",
    "    style_function = \"font-size: 10px; font-weight: bold\"\n",
    "    choropleth.geojson.add_child(\n",
    "        folium.features.GeoJsonTooltip(['TOWN', 'SUBZONE_N', 'count'], style=style_function, labels=False))\n",
    "    # labels False hides the column label from showing\n",
    "\n",
    "    marker_cluster = plugins.MarkerCluster(name=\"2021_m$_resales\", show=True).add_to(m)\n",
    "\n",
    "    for index, row in df.iterrows():\n",
    "        folium.Marker(\n",
    "            popup = \"{} {}\".format(row[\"block\"], row[\"street_name\"]),\n",
    "            location = [row[\"lat\"], row[\"lng\"]],\n",
    "            icon=folium.Icon(color=\"orange\"),\n",
    "        ).add_to(marker_cluster) # add to marker cluster instead of add to m\n",
    "        \n",
    "    folium.LayerControl().add_to(m)\n",
    "    \n",
    "    m.save(output)\n",
    "    display(m)"
   ]
  },
  {
   "cell_type": "code",
   "execution_count": null,
   "id": "354ec8e9",
   "metadata": {},
   "outputs": [],
   "source": [
    "plot_choropleth(SG_COORDS, df_boundary_merged, df_resale_coords, \"folium_resale.html\")"
   ]
  },
  {
   "cell_type": "markdown",
   "id": "49f3d2cc",
   "metadata": {},
   "source": [
    "***\n",
    "\n",
    "<a id='sec_path'></a>\n",
    "\n",
    "### 3. Timestamped Path\n",
    "\n",
    "In this section, we will plot a very simple timestamped path using our favorite locations in [Section 1.2](#subsec_markers)."
   ]
  },
  {
   "cell_type": "code",
   "execution_count": null,
   "id": "63d4b1d7",
   "metadata": {},
   "outputs": [],
   "source": [
    "# we need 2 additional libraries since we are dealing with timestamps!\n",
    "from datetime import datetime\n",
    "from folium.plugins import TimestampedGeoJson"
   ]
  },
  {
   "cell_type": "code",
   "execution_count": null,
   "id": "b8e366d3",
   "metadata": {},
   "outputs": [],
   "source": [
    "# convert the places dictionary into a dataframe\n",
    "df_path = pd.DataFrame.from_dict(PLACES_INFO, orient=\"index\")\n",
    "df_path.reset_index(inplace=True)\n",
    "df_path"
   ]
  },
  {
   "cell_type": "code",
   "execution_count": null,
   "id": "64e8594f",
   "metadata": {},
   "outputs": [],
   "source": [
    "# then, we will apply some processing to the coordinates\n",
    "df_path[\"lnglat\"] = df_path[\"coords\"].apply(lambda x: [x[1], x[0]])\n",
    "df_path[\"prev_lnglat\"] = df_path[\"lnglat\"].shift(1)\n",
    "df_path.at[0, \"prev_lnglat\"] = df_path.at[0, \"lnglat\"]\n",
    "\n",
    "df_path[\"coordinates\"] = df_path.apply(lambda x: [x[\"prev_lnglat\"], x[\"lnglat\"]], axis=1)\n",
    "df_path"
   ]
  },
  {
   "cell_type": "code",
   "execution_count": null,
   "id": "db13fe8d",
   "metadata": {},
   "outputs": [],
   "source": [
    "# next, we add in some timestamps\n",
    "for index, row in df_path.iterrows():\n",
    "    df_path.loc[index, \"timestamp\"] = \"2021-08-17 {:02d}:00\".format(index)\n",
    "df_path[\"prev_timestamp\"] = df_path[\"timestamp\"].shift(1)\n",
    "df_path.at[0, \"prev_timestamp\"] = df_path.at[0, \"timestamp\"]\n",
    "\n",
    "df_path[\"ts\"] = df_path.apply(lambda x: [x[\"prev_timestamp\"], x[\"timestamp\"]], axis=1)\n",
    "df_path"
   ]
  },
  {
   "cell_type": "code",
   "execution_count": null,
   "id": "4a9ccf30",
   "metadata": {},
   "outputs": [],
   "source": [
    "def plot_timepath(map_center, df, output):\n",
    "\n",
    "    m = folium.Map(location=map_center, zoom_start=12)\n",
    "    \n",
    "    lines = df.to_dict('records')\n",
    "    features = [\n",
    "        {\n",
    "            \"type\": \"Feature\",\n",
    "            \"geometry\": {\n",
    "                \"type\": \"LineString\",\n",
    "                \"coordinates\": line[\"coordinates\"],\n",
    "            },\n",
    "            \"properties\": {\n",
    "                \"popup\": line[\"index\"],\n",
    "                \"times\": line[\"ts\"],\n",
    "                \"style\": {\n",
    "                    \"color\": \"black\",\n",
    "                    \"weight\": 2,\n",
    "                },\n",
    "                \"icon\": \"circle\",\n",
    "                    \"iconstyle\": {\n",
    "                        \"fillColor\": \"orange\",\n",
    "                        \"fillOpacity\": 0.6,\n",
    "                        \"stroke\": \"false\",\n",
    "                        \"radius\": 10,\n",
    "                    },\n",
    "                },\n",
    "        }\n",
    "        for line in lines\n",
    "    ]\n",
    "    \n",
    "    TimestampedGeoJson(\n",
    "        {\n",
    "            \"type\": \"FeatureCollection\",\n",
    "            \"features\": features,\n",
    "        },\n",
    "        period=\"PT1H\",\n",
    "        add_last_point=True,\n",
    "    ).add_to(m)\n",
    "    \n",
    "    m.save(output)\n",
    "    display(m)"
   ]
  },
  {
   "cell_type": "code",
   "execution_count": null,
   "id": "4d3c0897",
   "metadata": {},
   "outputs": [],
   "source": [
    "plot_timepath(SG_COORDS, df_path, \"folium_time.html\")"
   ]
  }
 ],
 "metadata": {
  "kernelspec": {
   "display_name": "Python 3 (ipykernel)",
   "language": "python",
   "name": "python3"
  },
  "language_info": {
   "codemirror_mode": {
    "name": "ipython",
    "version": 3
   },
   "file_extension": ".py",
   "mimetype": "text/x-python",
   "name": "python",
   "nbconvert_exporter": "python",
   "pygments_lexer": "ipython3",
   "version": "3.8.5"
  }
 },
 "nbformat": 4,
 "nbformat_minor": 5
}
